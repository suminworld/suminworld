{
  "nbformat": 4,
  "nbformat_minor": 0,
  "metadata": {
    "colab": {
      "name": "2022-06-10-Untitled0(연습).ipynb",
      "provenance": [],
      "collapsed_sections": []
    },
    "kernelspec": {
      "name": "python3",
      "display_name": "Python 3"
    },
    "language_info": {
      "name": "python"
    }
  },
  "cells": [
    {
      "cell_type": "markdown",
      "source": [
        "# \"제목!!\"\n",
        "> \"요약!!\"\n",
        "\n",
        "- toc:true\n",
        "- branch: master\n",
        "- badges: true\n",
        "- comments: true\n",
        "- author: sumin\n",
        "- categories: [jupyter]"
      ],
      "metadata": {
        "id": "JctCMi2SOh1c"
      }
    },
    {
      "cell_type": "code",
      "execution_count": null,
      "metadata": {
        "id": "cMHeNBb9N6kf"
      },
      "outputs": [],
      "source": [
        "import pandas as pd\n",
        "import numpy as np"
      ]
    },
    {
      "cell_type": "code",
      "source": [
        "주가 = [ np.random.randint(10, 50) + i*2 for i in range(100) ]"
      ],
      "metadata": {
        "id": "Zuo4K0BVN9hf"
      },
      "execution_count": null,
      "outputs": []
    },
    {
      "cell_type": "code",
      "source": [
        "import matplotlib.pyplot as plt\n",
        "\n",
        "plt.plot(np.arange(1, 101), 주가)\n",
        "plt plot()\n",
        "\n",
        "plt.show()"
      ],
      "metadata": {
        "id": "1CoU5Wj4OESR"
      },
      "execution_count": null,
      "outputs": []
    }
  ]
}